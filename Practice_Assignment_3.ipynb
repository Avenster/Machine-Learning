{
  "nbformat": 4,
  "nbformat_minor": 0,
  "metadata": {
    "colab": {
      "provenance": []
    },
    "kernelspec": {
      "name": "python3",
      "display_name": "Python 3"
    },
    "language_info": {
      "name": "python"
    }
  },
  "cells": [
    {
      "cell_type": "markdown",
      "source": [
        "**LAB ASSGINMENT 3**\n",
        "\n",
        "---\n",
        "*Check the wine quality dataset. You may consider this problem as a classification or a regression problem.\n",
        "Build predictive model with Decision Tree to predict quality of wine based on various features.*\n",
        "***"
      ],
      "metadata": {
        "id": "Df5ZsAgfWuaq"
      }
    },
    {
      "cell_type": "markdown",
      "source": [],
      "metadata": {
        "id": "50R6pJ65Xhu5"
      }
    },
    {
      "cell_type": "markdown",
      "source": [
        "*NAME - ANKUR KAUSHAL*\n",
        "\n",
        "*CSE 4*\n",
        "\n",
        "*210526*\n",
        "***"
      ],
      "metadata": {
        "id": "uMNhKW23XGlV"
      }
    },
    {
      "cell_type": "code",
      "source": [
        "import pandas as pd\n",
        "from sklearn.tree import DecisionTreeClassifier\n",
        "from sklearn.model_selection import train_test_split\n",
        "from sklearn.impute import SimpleImputer\n",
        "\n",
        "# Load the wine quality dataset\n",
        "df = pd.read_csv('winequalityN.csv')\n",
        "\n",
        "# One-hot encode the type column\n",
        "df = pd.get_dummies(df, columns=['type'])\n",
        "\n",
        "# Split the data into features and labels\n",
        "X = df.drop('quality', axis=1)\n",
        "y = df['quality']\n",
        "\n",
        "# Split the data into training and testing sets\n",
        "X_train, X_test, y_train, y_test = train_test_split(X, y)\n"
      ],
      "metadata": {
        "id": "jPGEHCbBUjuZ"
      },
      "execution_count": 44,
      "outputs": []
    },
    {
      "cell_type": "code",
      "source": [
        "\n",
        "# Impute missing values with the mean of each feature\n",
        "imputer = SimpleImputer()\n",
        "X_train = imputer.fit_transform(X_train)\n",
        "X_test = imputer.transform(X_test)\n",
        "\n",
        "# Instantiate a DecisionTreeClassifier object\n",
        "clf = DecisionTreeClassifier()\n",
        "\n",
        "# Fit the classifier to the training data\n",
        "clf.fit(X_train, y_train)\n",
        "\n",
        "# Make predictions on the test data\n",
        "y_pred = clf.predict(X_test)"
      ],
      "metadata": {
        "id": "T5sM7LgoUuGL"
      },
      "execution_count": 45,
      "outputs": []
    },
    {
      "cell_type": "code",
      "source": [
        "accuracy = clf.score(X_test, y_test)\n",
        "print(f'Accuracy: {accuracy}')"
      ],
      "metadata": {
        "colab": {
          "base_uri": "https://localhost:8080/"
        },
        "id": "nvBrjDC9Vmos",
        "outputId": "c54ccded-8ffe-45b5-c81f-f207f1d57ed0"
      },
      "execution_count": 47,
      "outputs": [
        {
          "output_type": "stream",
          "name": "stdout",
          "text": [
            "Accuracy: 0.5815384615384616\n"
          ]
        }
      ]
    }
  ]
}